{
 "cells": [
  {
   "cell_type": "code",
   "execution_count": 1,
   "id": "b4c500ef",
   "metadata": {},
   "outputs": [
    {
     "name": "stdout",
     "output_type": "stream",
     "text": [
      "C:\\Users\\workspace\n"
     ]
    }
   ],
   "source": [
    "cd"
   ]
  },
  {
   "cell_type": "code",
   "execution_count": 2,
   "id": "uoWs5ftiQRYZ",
   "metadata": {
    "colab": {
     "base_uri": "https://localhost:8080/"
    },
    "executionInfo": {
     "elapsed": 2333,
     "status": "ok",
     "timestamp": 1646270452700,
     "user": {
      "displayName": "Alex Kim",
      "photoUrl": "https://lh3.googleusercontent.com/a/default-user=s64",
      "userId": "14000404201898213847"
     },
     "user_tz": -540
    },
    "id": "uoWs5ftiQRYZ",
    "outputId": "9b91e1a9-5306-49e0-882e-3b3162351d12"
   },
   "outputs": [],
   "source": [
    "#from google.colab import drive\n",
    "#drive.mount('/content/drive')"
   ]
  },
  {
   "cell_type": "code",
   "execution_count": 3,
   "id": "17e413f5",
   "metadata": {
    "executionInfo": {
     "elapsed": 11284,
     "status": "ok",
     "timestamp": 1646270463980,
     "user": {
      "displayName": "Alex Kim",
      "photoUrl": "https://lh3.googleusercontent.com/a/default-user=s64",
      "userId": "14000404201898213847"
     },
     "user_tz": -540
    },
    "id": "17e413f5"
   },
   "outputs": [],
   "source": [
    "from tensorflow import keras\n",
    "import matplotlib.pyplot as plt\n",
    "import tensorflow as tf\n",
    "import pandas as pd\n",
    "import numpy as np\n",
    "\n",
    "import cv2\n",
    "import pandas as pd\n",
    "from tensorflow.keras.utils import to_categorical\n",
    "from tensorflow.keras.preprocessing.image import ImageDataGenerator\n",
    "from tensorflow.keras.models import Sequential\n",
    "from tensorflow.keras.layers import Flatten, Dense, Dropout\n",
    "from tensorflow.keras.optimizers import Adam\n",
    "from tensorflow.keras.preprocessing.image import ImageDataGenerator\n",
    "from sklearn.model_selection import train_test_split\n",
    "\n",
    "import sklearn\n",
    "import imageio"
   ]
  },
  {
   "cell_type": "code",
   "execution_count": 4,
   "id": "73f2b14b",
   "metadata": {
    "executionInfo": {
     "elapsed": 552,
     "status": "ok",
     "timestamp": 1646270464521,
     "user": {
      "displayName": "Alex Kim",
      "photoUrl": "https://lh3.googleusercontent.com/a/default-user=s64",
      "userId": "14000404201898213847"
     },
     "user_tz": -540
    },
    "id": "73f2b14b"
   },
   "outputs": [],
   "source": [
    "import imgaug.augmenters as iaa\n",
    "import imgaug as ia\n",
    "import math"
   ]
  },
  {
   "cell_type": "code",
   "execution_count": 5,
   "id": "e3b14064",
   "metadata": {
    "colab": {
     "base_uri": "https://localhost:8080/"
    },
    "executionInfo": {
     "elapsed": 1081,
     "status": "ok",
     "timestamp": 1646270465598,
     "user": {
      "displayName": "Alex Kim",
      "photoUrl": "https://lh3.googleusercontent.com/a/default-user=s64",
      "userId": "14000404201898213847"
     },
     "user_tz": -540
    },
    "id": "e3b14064",
    "outputId": "9d487040-197a-4127-f6cd-edfca06b22e3"
   },
   "outputs": [
    {
     "name": "stdout",
     "output_type": "stream",
     "text": [
      "2.8.0\n"
     ]
    }
   ],
   "source": [
    "print(tf.__version__)"
   ]
  },
  {
   "cell_type": "code",
   "execution_count": 6,
   "id": "536f16f7",
   "metadata": {
    "executionInfo": {
     "elapsed": 14,
     "status": "ok",
     "timestamp": 1646270465601,
     "user": {
      "displayName": "Alex Kim",
      "photoUrl": "https://lh3.googleusercontent.com/a/default-user=s64",
      "userId": "14000404201898213847"
     },
     "user_tz": -540
    },
    "id": "536f16f7"
   },
   "outputs": [],
   "source": [
    "data_path = './workspace1/data/ucf101_top5/'"
   ]
  },
  {
   "cell_type": "code",
   "execution_count": 7,
   "id": "b0c2d4b8",
   "metadata": {},
   "outputs": [],
   "source": [
    "# 이미지의 가로 세로\n",
    "IMG_SIZE = 224\n",
    "# 비디오에서 학습할 프레임 개수\n",
    "MAX_SEQ_LENGTH = 20"
   ]
  },
  {
   "cell_type": "code",
   "execution_count": 8,
   "id": "52361ee5",
   "metadata": {},
   "outputs": [],
   "source": [
    "# 학습 데이터의 파일명과 종류가 저장된 train.csv 를 읽음\n",
    "train_df = pd.read_csv(data_path + \"train.csv\")\n",
    "test_df = pd.read_csv(data_path+\"test.csv\")"
   ]
  },
  {
   "cell_type": "code",
   "execution_count": 9,
   "id": "a689d0bf",
   "metadata": {},
   "outputs": [],
   "source": [
    "# 비디오의 종류가 저장된 tag 컬럼을 label 컬럼에 대입\n",
    "train_df[\"label\"] = train_df[\"tag\"]\n",
    "test_df[\"label\"] = test_df[\"tag\"]"
   ]
  },
  {
   "cell_type": "code",
   "execution_count": 10,
   "id": "82c0b1a4",
   "metadata": {},
   "outputs": [],
   "source": [
    "# enumerate(train_df[\"label\"].unique()) : label 컬럼에 저장된 데이터를 중복을 제거한 값에 인덱스 추가\n",
    "for index, data in enumerate(train_df[\"label\"].unique()):\n",
    "    # label 컬럼에 저장된 data 를 index로 변환\n",
    "    train_df[\"label\"].replace(data, index, inplace=True) "
   ]
  },
  {
   "cell_type": "code",
   "execution_count": 11,
   "id": "92e2c686",
   "metadata": {},
   "outputs": [],
   "source": [
    "for index, data in enumerate(test_df[\"label\"].unique()):\n",
    "    # label 컬럼에 저장된 data 를 index로 변환\n",
    "    test_df[\"label\"].replace(data, index, inplace=True) "
   ]
  },
  {
   "cell_type": "code",
   "execution_count": 12,
   "id": "d4d4cf8d",
   "metadata": {},
   "outputs": [],
   "source": [
    "# sklearn.utils.shuffle(train_df) : train_df에 저장된 행을 섞음\n",
    "train_df = sklearn.utils.shuffle(train_df)\n",
    "test_df=sklearn.utils.shuffle(test_df)"
   ]
  },
  {
   "cell_type": "code",
   "execution_count": 13,
   "id": "aIUcPZnCSvFH",
   "metadata": {
    "executionInfo": {
     "elapsed": 14,
     "status": "ok",
     "timestamp": 1646270465602,
     "user": {
      "displayName": "Alex Kim",
      "photoUrl": "https://lh3.googleusercontent.com/a/default-user=s64",
      "userId": "14000404201898213847"
     },
     "user_tz": -540
    },
    "id": "aIUcPZnCSvFH"
   },
   "outputs": [],
   "source": [
    "# 비디오를 구성하는 이미지의 가운데 부분을 리턴\n",
    "# frame : 비디오를 구성하는 이미지\n",
    "def crop_center_square(frame):\n",
    "    # frame.shape[0:2] : 이미지의 세로, 가로 리턴\n",
    "    y, x = frame.shape[0:2]\n",
    "    # 이미지의 세로 가로 중에서 작은 값을 리턴\n",
    "    min_dim = min(y, x)\n",
    "    #이미지의 왼쪽 모서리 좌표의 가로 시작점\n",
    "    # 이미지 가로 좌표 (이미지 가로 //2  - min_dim//2) ~ (이미지 가로 //2  + min_dim//2) \n",
    "    start_x = (x // 2) - (min_dim // 2)\n",
    "    # 이미지의 왼쪽 모서리 세로 좌표 시작점\n",
    "    # 이미지 세로 좌표 (이미지 세로 //2  - min_dim//2) ~ (이미지 세로 //2  + min_dim//2) \n",
    "    start_y = (y // 2) - (min_dim // 2)\n",
    "    return frame[start_y : start_y + min_dim, start_x : start_x + min_dim]"
   ]
  },
  {
   "cell_type": "code",
   "execution_count": 14,
   "id": "604e8c95",
   "metadata": {
    "executionInfo": {
     "elapsed": 13,
     "status": "ok",
     "timestamp": 1646270465602,
     "user": {
      "displayName": "Alex Kim",
      "photoUrl": "https://lh3.googleusercontent.com/a/default-user=s64",
      "userId": "14000404201898213847"
     },
     "user_tz": -540
    },
    "id": "604e8c95"
   },
   "outputs": [],
   "source": [
    "# 비디오 파일을 읽어서 각 프레임을 이미지로 변환해서 리턴\n",
    "# path : 비디오 파일 경로\n",
    "# max_frames : 이미지로 변환할 프레임수\n",
    "# resize=(IMG_SIZE, IMG_SIZE) : 이미지의 가로 세로\n",
    "def load_video(path, max_frames=20, resize=(IMG_SIZE, IMG_SIZE)):\n",
    "    # 비디오 파일을 읽어서 이미지로 변환 할 객페\n",
    "    cap = cv2.VideoCapture(path)\n",
    "    frames = []\n",
    "    try:\n",
    "        while True:\n",
    "            # cap.read() : 비디오를 읽어서 리턴\n",
    "            # ret : 비디오 읽기가 성공했으면 True, 더이상 읽을 비디오 프레임이 없으면 False 가 리턴\n",
    "            # frame : 비디오 프레임 이미지를 리턴\n",
    "            ret, frame = cap.read()\n",
    "            # ret 가 False면 반복 종료\n",
    "            if not ret:\n",
    "                break\n",
    "            # 비디오 이미지를 가운데 리턴\n",
    "            frame = crop_center_square(frame)\n",
    "            #비디오 이미지의 가로 세로를 resize=(224,224) 로 변환\n",
    "            frame = cv2.resize(frame, resize)\n",
    "            # frame 은  [줄, 칸, B G R ] 로 구성되 있음 \n",
    "            # frame [ : (모든줄), : (모든칸), R (인덱스2) G (인덱스1) B (인덱스0 )] 리턴\n",
    "            frame = frame[:, :, [2, 1, 0]]\n",
    "            # frame을 frames에 추가\n",
    "            frames.append(frame)\n",
    "            # frames에 저장된 데이터수가 max_frames와 같으면 종료\n",
    "            if len(frames) == max_frames:\n",
    "                break\n",
    "    finally:\n",
    "        # 비디오 이미지 변환 종료\n",
    "        cap.release()\n",
    "    # frames를 numpy 배열로 변환 해서 리턴\n",
    "    return np.array(frames)"
   ]
  },
  {
   "cell_type": "code",
   "execution_count": 15,
   "id": "heQ5II5GSw2W",
   "metadata": {
    "executionInfo": {
     "elapsed": 13,
     "status": "ok",
     "timestamp": 1646270465602,
     "user": {
      "displayName": "Alex Kim",
      "photoUrl": "https://lh3.googleusercontent.com/a/default-user=s64",
      "userId": "14000404201898213847"
     },
     "user_tz": -540
    },
    "id": "heQ5II5GSw2W"
   },
   "outputs": [],
   "source": [
    "# 모든 비디오 파일의 이미지와 종류를 리턴\n",
    "# video_name : 비디오 파일명\n",
    "# label: 비디오 파일 종류\n",
    "# root_dir : 비디오 파일 경로\n",
    "def prepare_all_videos(video_name , label, root_dir):\n",
    "    # 비디오 파일 이름의 개수\n",
    "    num_samples = len(video_name)\n",
    "    # video_name.values.tolist() : 비디오 파일 이름을 리스트로 변환 해서 리턴\n",
    "    video_paths = video_name.values.tolist()\n",
    "    # 비디오 종류를 리턴\n",
    "    labels = label.values\n",
    "    # 비디오 종류를 2차원 배열로 변환\n",
    "    labels = labels.reshape(-1,1)\n",
    "    # 0으로 초기화된 [비디오 파일개수 * 20 , 224 , 224, 3] 배열 생성\n",
    "    x = np.zeros(shape=(num_samples*MAX_SEQ_LENGTH, IMG_SIZE, IMG_SIZE, 3 ), dtype=\"float32\" )\n",
    "    # 0으로 초기화된 [비디오파일개수 * 20] 인 배열 생성\n",
    "    y = np.zeros(shape=(num_samples*MAX_SEQ_LENGTH), dtype=\"float32\")\n",
    "    # 인덱스 초기화\n",
    "    index = 0\n",
    "    # 비디오 파일의 개수 만큼 반복\n",
    "    for idx, path in enumerate(video_paths):\n",
    "        # 비디오 파일을 읽어서 각 프레임의 이미지를 리턴\n",
    "        frames = load_video(root_dir+ path)\n",
    "        # 프레임의 개수 만큼 반복\n",
    "        for i in range(len(frames)):\n",
    "            # frame의 i번째 이미지를 x에 추가\n",
    "            x[index] = np.array(frames[i], dtype=\"float32\")\n",
    "            # 비디오의 종류가 저장된 labels의 idx 번째를 y에 추가\n",
    "            y[index]= np.array(labels[idx], dtype=\"float32\")\n",
    "            # index 1 증가\n",
    "            index += 1 \n",
    "    \n",
    "    # 전체 비디오 프레임을 이미지로 변환한 x \n",
    "    # to_categorical(y) : 이미지의 종류 y 를 onehot 인코딩 \n",
    "    return (x,to_categorical(y))"
   ]
  },
  {
   "cell_type": "code",
   "execution_count": 16,
   "id": "5abbcfd5",
   "metadata": {},
   "outputs": [],
   "source": [
    "# 비디오 프레임을 이미지로 변환한 데이터를 X_train에 저장\n",
    "# 비디오 프레임 이미지의 종류를 y_train에 저장\n",
    "X_train, y_train = prepare_all_videos(train_df[\"video_name\"], train_df[\"label\"] , data_path + \"train/\")\n",
    "X_test, y_test = prepare_all_videos(test_df[\"video_name\"], test_df[\"label\"] , data_path + \"test/\")"
   ]
  },
  {
   "cell_type": "code",
   "execution_count": 17,
   "id": "703f7d5e",
   "metadata": {},
   "outputs": [],
   "source": [
    "X_train, X_val, y_train, y_val = train_test_split(X_train, y_train, test_size = 0.2)"
   ]
  },
  {
   "cell_type": "code",
   "execution_count": 18,
   "id": "d0015cbc",
   "metadata": {
    "executionInfo": {
     "elapsed": 5,
     "status": "ok",
     "timestamp": 1646270480868,
     "user": {
      "displayName": "Alex Kim",
      "photoUrl": "https://lh3.googleusercontent.com/a/default-user=s64",
      "userId": "14000404201898213847"
     },
     "user_tz": -540
    },
    "id": "d0015cbc"
   },
   "outputs": [],
   "source": [
    "#Resnet\n",
    "from tensorflow.keras.applications import ResNet50V2, ResNet101V2, ResNet152V2\n",
    "from tensorflow.keras.applications import VGG16, VGG19"
   ]
  },
  {
   "cell_type": "code",
   "execution_count": 20,
   "id": "533f6a61",
   "metadata": {
    "executionInfo": {
     "elapsed": 7319,
     "status": "ok",
     "timestamp": 1646270488182,
     "user": {
      "displayName": "Alex Kim",
      "photoUrl": "https://lh3.googleusercontent.com/a/default-user=s64",
      "userId": "14000404201898213847"
     },
     "user_tz": -540
    },
    "id": "533f6a61"
   },
   "outputs": [],
   "source": [
    "vggnet16 = VGG16(include_top = False, input_shape = (224, 224, 3))\n",
    "vggnet19 = VGG19(include_top = False, input_shape = (224, 224, 3))\n",
    "resnet50 = ResNet50V2(include_top = False, input_shape = (224, 224, 3))\n",
    "resnet101 = ResNet101V2(include_top = False, input_shape = (224, 224, 3))\n",
    "resnet152 = ResNet152V2(include_top = False, input_shape = (224, 224, 3))"
   ]
  },
  {
   "cell_type": "code",
   "execution_count": 21,
   "id": "f717ae6c",
   "metadata": {},
   "outputs": [],
   "source": [
    "vggnet16.trainable=False\n",
    "vggnet19.trainable=False\n",
    "resnet50.trainable=False\n",
    "resnet101.trainable=False\n",
    "resnet152.trainable=False"
   ]
  },
  {
   "cell_type": "code",
   "execution_count": 22,
   "id": "db04aeb9",
   "metadata": {},
   "outputs": [
    {
     "name": "stderr",
     "output_type": "stream",
     "text": [
      "C:\\Users\\workspace\\anaconda3\\envs\\workspace1\\lib\\site-packages\\imgaug\\imgaug.py:184: DeprecationWarning: Function `SimplexNoiseAlpha()` is deprecated. Use `BlendAlphaSimplexNoise` instead. SimplexNoiseAlpha is deprecated. Use BlendAlphaSimplexNoise instead. The order of parameters is the same. Parameter 'first' was renamed to 'foreground'. Parameter 'second' was renamed to 'background'.\n",
      "  warn_deprecated(msg, stacklevel=3)\n",
      "C:\\Users\\workspace\\anaconda3\\envs\\workspace1\\lib\\site-packages\\imgaug\\imgaug.py:184: DeprecationWarning: Function `FrequencyNoiseAlpha()` is deprecated. Use `BlendAlphaFrequencyNoise` instead. FrequencyNoiseAlpha is deprecated. Use BlendAlphaFrequencyNoise instead. The order of parameters is the same. Parameter 'first' was renamed to 'foreground'. Parameter 'second' was renamed to 'background'.\n",
      "  warn_deprecated(msg, stacklevel=3)\n"
     ]
    }
   ],
   "source": [
    "# Sometimes(0.5, ...) applies the given augmenter in 50% of all cases,\n",
    "# e.g. Sometimes(0.5, GaussianBlur(0.3)) would blur roughly every second image.\n",
    "sometimes = lambda aug: iaa.Sometimes(0.5, aug)\n",
    "\n",
    "# Define our sequence of augmentation steps that will be applied to every image\n",
    "# All augmenters with per_channel=0.5 will sample one value _per image_\n",
    "# in 50% of all cases. In all other cases they will sample new values\n",
    "# _per channel_.\n",
    "\n",
    "seq = iaa.Sequential(\n",
    "    [\n",
    "        # apply the following augmenters to most images\n",
    "        iaa.Fliplr(0.5), # horizontally flip 50% of all images\n",
    "        iaa.Flipud(0.2), # vertically flip 20% of all images\n",
    "        # crop images by -5% to 10% of their height/width\n",
    "        sometimes(iaa.CropAndPad(\n",
    "            percent=(-0.05, 0.1),\n",
    "            pad_mode=ia.ALL,\n",
    "            pad_cval=(0, 255)\n",
    "        )),\n",
    "        sometimes(iaa.Affine(\n",
    "            scale={\"x\": (0.8, 1.2), \"y\": (0.8, 1.2)}, # scale images to 80-120% of their size, individually per axis\n",
    "            translate_percent={\"x\": (-0.2, 0.2), \"y\": (-0.2, 0.2)}, # translate by -20 to +20 percent (per axis)\n",
    "            rotate=(-45, 45), # rotate by -45 to +45 degrees\n",
    "            shear=(-16, 16), # shear by -16 to +16 degrees\n",
    "            order=[0, 1], # use nearest neighbour or bilinear interpolation (fast)\n",
    "            cval=(0, 255), # if mode is constant, use a cval between 0 and 255\n",
    "            mode=ia.ALL # use any of scikit-image's warping modes (see 2nd image from the top for examples)\n",
    "        )),\n",
    "        # execute 0 to 5 of the following (less important) augmenters per image\n",
    "        # don't execute all of them, as that would often be way too strong\n",
    "        iaa.SomeOf((0, 5),\n",
    "            [\n",
    "                sometimes(iaa.Superpixels(p_replace=(0, 1.0), n_segments=(20, 200))), # convert images into their superpixel representation\n",
    "                iaa.OneOf([\n",
    "                    iaa.GaussianBlur((0, 3.0)), # blur images with a sigma between 0 and 3.0\n",
    "                    iaa.AverageBlur(k=(2, 7)), # blur image using local means with kernel sizes between 2 and 7\n",
    "                    iaa.MedianBlur(k=(3, 11)), # blur image using local medians with kernel sizes between 2 and 7\n",
    "                ]),\n",
    "                iaa.Sharpen(alpha=(0, 1.0), lightness=(0.75, 1.5)), # sharpen images\n",
    "                iaa.Emboss(alpha=(0, 1.0), strength=(0, 2.0)), # emboss images\n",
    "                # search either for all edges or for directed edges,\n",
    "                # blend the result with the original image using a blobby mask\n",
    "                iaa.SimplexNoiseAlpha(iaa.OneOf([\n",
    "                    iaa.EdgeDetect(alpha=(0.5, 1.0)),\n",
    "                    iaa.DirectedEdgeDetect(alpha=(0.5, 1.0), direction=(0.0, 1.0)),\n",
    "                ])),\n",
    "                iaa.AdditiveGaussianNoise(loc=0, scale=(0.0, 0.05*255), per_channel=0.5), # add gaussian noise to images\n",
    "                iaa.OneOf([\n",
    "                    iaa.Dropout((0.01, 0.1), per_channel=0.5), # randomly remove up to 10% of the pixels\n",
    "                    iaa.CoarseDropout((0.03, 0.15), size_percent=(0.02, 0.05), per_channel=0.2),\n",
    "                ]),\n",
    "                iaa.Invert(0.05, per_channel=True), # invert color channels\n",
    "                iaa.Add((-10, 10), per_channel=0.5), # change brightness of images (by -10 to 10 of original value)\n",
    "                iaa.AddToHueAndSaturation((-20, 20)), # change hue and saturation\n",
    "                # either change the brightness of the whole image (sometimes\n",
    "                # per channel) or change the brightness of subareas\n",
    "                iaa.OneOf([\n",
    "                    iaa.Multiply((0.5, 1.5), per_channel=0.5),\n",
    "                    iaa.FrequencyNoiseAlpha(\n",
    "                        exponent=(-4, 0),\n",
    "                        first=iaa.Multiply((0.5, 1.5), per_channel=True),\n",
    "                        second=iaa.LinearContrast((0.5, 2.0))\n",
    "                    )\n",
    "                ]),\n",
    "                iaa.LinearContrast((0.5, 2.0), per_channel=0.5), # improve or worsen the contrast\n",
    "                iaa.Grayscale(alpha=(0.0, 1.0)),\n",
    "                sometimes(iaa.ElasticTransformation(alpha=(0.5, 3.5), sigma=0.25)), # move pixels locally around (with random strengths)\n",
    "                sometimes(iaa.PiecewiseAffine(scale=(0.01, 0.05))), # sometimes move parts of the image around\n",
    "                sometimes(iaa.PerspectiveTransform(scale=(0.01, 0.1)))\n",
    "            ],\n",
    "            random_order=True\n",
    "        )\n",
    "    ],\n",
    "    random_order=True\n",
    ")"
   ]
  },
  {
   "cell_type": "code",
   "execution_count": 23,
   "id": "8db26c76",
   "metadata": {},
   "outputs": [],
   "source": [
    "# 이미지를 증강시켜서 배치 사이즈 만큼씩 리턴하는 클래스 구현\n",
    "\n",
    "class  ImageSequence(tf.keras.utils.Sequence):\n",
    "    # 객체 생성시 실행되는 함수\n",
    "    # 매개변수\n",
    "    # image_arr : 이미지가 저장된 배열\n",
    "    # label_arr : 이미지의 종류가 저장된 배열\n",
    "    # batch_size : 배치 사이즈 (한번에 리턴할 파일 개수)\n",
    "    # seq : 이미지 증강 객체\n",
    "\n",
    "    def __init__(self, image_arr ,label_arr, batch_size, seq):\n",
    "        # 매개변수들을 속성에 저장\n",
    "        self.image_arr  = image_arr \n",
    "        self.label_arr = label_arr\n",
    "        self.batch_size = batch_size\n",
    "        self.seq = seq\n",
    "    \n",
    "    # batch_size씩 이미지를 리턴했을때 전체 이미지를 리턴하려명 몆번 반복해야 하는지 리턴\n",
    "    def __len__(self):\n",
    "        \n",
    "        # math.ceil : 소숫점 1자리 올림 예) 6.1 -> 7   6 -> 6   6.0 -> 6\n",
    "\n",
    "        # image_arr  (이미지가 저장된 배열) / batch_size (한번에 리턴할 이미지 개수) 의 올림을 리턴     \n",
    "        return math.ceil(len(self.image_arr ) / self.batch_size)\n",
    "\n",
    "    # 학습시 batch_size 씩 이미지를 리턴하는 함수로 텐서플로우에서 학습시 model 객체에서 자동으로 호출하는 함수\n",
    "    # 매개변수 idx : 몆번째 batch 인지가 저장되는 매개변수 0부터 시작\n",
    "    def __getitem__(self, idx):\n",
    "        # idx * self.batch_size 부터 (idx + 1) * self.batch_size 까지 이미지 리턴\n",
    "        images = self.image_arr[idx * self.batch_size:(idx + 1) * self.batch_size]\n",
    "        # 증강시키기 위해서 batch_image_arr을 정수로 변환\n",
    "        img = np.array( images,  dtype=np.uint8)\n",
    "        # img를 증강시켜서 generate_img에 저장\n",
    "        generate_img = seq(images=img) \n",
    "        # idx * self.batch_size 부터 (idx + 1) * self.batch_size 까지 이미지 종류 리턴\n",
    "        labels = self.label_arr[idx * self.batch_size:(idx + 1) * self.batch_size]\n",
    "\n",
    "        \n",
    "        generate_img = generate_img/255\n",
    "        #==================== 여기 밑으로 추가만 됐습니다.\n",
    "        imgs = []; labs = []\n",
    "        for i in range(len(generate_img)):   #i = 자를 사진 index\n",
    "          #print(\"i = \", i)\n",
    "          APPLY = tf.cast(tf.random.uniform(()) >= 0.5, tf.int32)  #0-1 랜덤 숫자 0.5보다 크면 1 아니면 0\n",
    "          idx = tf.random.uniform((), 0, len(generate_img), tf.int32)  #채워줄 사진 index,  0-배치 중 하나\n",
    "\n",
    "          W = 224\n",
    "          H = 224\n",
    "          lam = tf.random.uniform(())  #사진 비율\n",
    "          cut_ratio = tf.math.sqrt(1.-lam)\n",
    "          cut_w = tf.cast(W * cut_ratio, tf.int32) * APPLY   #0곱해지면 적용 x\n",
    "          cut_h = tf.cast(H * cut_ratio, tf.int32) * APPLY\n",
    "\n",
    "          cx = tf.random.uniform((), int(W/8), int(7/8*W), tf.int32)   #자르는 이미지의 중심좌표(중심이 너무 외곽이 안잡히도록)\n",
    "          cy = tf.random.uniform((), int(H/8), int(7/8*H), tf.int32)\n",
    "\n",
    "          xmin = tf.clip_by_value(cx - cut_w//2, 0, W)  #0과 끝을 벗어나지 않도록\n",
    "          ymin = tf.clip_by_value(cy - cut_h//2, 0, H)\n",
    "          xmax = tf.clip_by_value(cx + cut_w//2, 0, W)\n",
    "          ymax = tf.clip_by_value(cy + cut_h//2, 0, H)\n",
    "          mid_left = generate_img[i, ymin:ymax, :xmin, :]\n",
    "          mid_mid = generate_img[idx, ymin:ymax, xmin:xmax, :] \n",
    "          mid_right = generate_img[i, ymin:ymax, xmax:, :]\n",
    "\n",
    "          middle = tf.concat([mid_left, mid_mid, mid_right], axis=1)\n",
    "          top = generate_img[i, :ymin, :, :]\n",
    "          bottom = generate_img[i, ymax:, :, :]\n",
    "          new_img = tf.concat([top, middle, bottom], axis=0)\n",
    "          imgs.append(new_img)\n",
    "\n",
    "          cut_w_mod = xmax - xmin   #자르는 이미지가 기존 이미지의 밖으로 나가는 경우 처리하기위해\n",
    "          cut_h_mod = ymax - ymin\n",
    "          alpha = tf.cast((cut_w_mod*cut_h_mod)/(W*H), tf.float32) #실제 잘려진 면적의 비율\n",
    "          label1 = labels[i]\n",
    "          label2 = labels[idx]\n",
    "          new_label = ((1-alpha)*label1 + alpha*label2)\n",
    "          labs.append(new_label)\n",
    "         \n",
    "\n",
    "        return np.array(imgs, dtype=\"float32\"), np.array(labs,  dtype=\"float32\")"
   ]
  },
  {
   "cell_type": "code",
   "execution_count": 24,
   "id": "29864cea",
   "metadata": {},
   "outputs": [],
   "source": [
    "# ImageSequence : 객체 생성\n",
    "# X_train : 이미지\n",
    "# y_train : 이미지 라벨\n",
    "# 32: 배치 사이즈\n",
    "#seq : 이미지 증강 객체\n",
    "train_sequence = ImageSequence(X_train, y_train, 64, seq)"
   ]
  },
  {
   "cell_type": "code",
   "execution_count": 25,
   "id": "wBKH5bjzTh3T",
   "metadata": {
    "executionInfo": {
     "elapsed": 14,
     "status": "ok",
     "timestamp": 1646270508070,
     "user": {
      "displayName": "Alex Kim",
      "photoUrl": "https://lh3.googleusercontent.com/a/default-user=s64",
      "userId": "14000404201898213847"
     },
     "user_tz": -540
    },
    "id": "wBKH5bjzTh3T"
   },
   "outputs": [],
   "source": [
    "model_vggnet16 = Sequential()\n",
    "model_vggnet19 = Sequential()\n",
    "model_resnet50 = Sequential()\n",
    "model_resnet101 = Sequential()\n",
    "model_resnet152 = Sequential()"
   ]
  },
  {
   "cell_type": "code",
   "execution_count": 26,
   "id": "9LqdjhwTW0ko",
   "metadata": {
    "executionInfo": {
     "elapsed": 13,
     "status": "ok",
     "timestamp": 1646270508070,
     "user": {
      "displayName": "Alex Kim",
      "photoUrl": "https://lh3.googleusercontent.com/a/default-user=s64",
      "userId": "14000404201898213847"
     },
     "user_tz": -540
    },
    "id": "9LqdjhwTW0ko"
   },
   "outputs": [],
   "source": [
    "model_vggnet16.add(vggnet16)\n",
    "model_vggnet16.add(Flatten())\n",
    "model_vggnet16.add(Dense(256, activation='relu'))\n",
    "model_vggnet16.add(Dropout(0.8))\n",
    "model_vggnet16.add(Dense(5, activation = 'softmax'))"
   ]
  },
  {
   "cell_type": "code",
   "execution_count": 27,
   "id": "8dfd2264",
   "metadata": {},
   "outputs": [],
   "source": [
    "model_vggnet19.add(vggnet19)\n",
    "model_vggnet19.add(Flatten())\n",
    "model_vggnet19.add(Dense(256, activation='relu'))\n",
    "model_vggnet19.add(Dropout(0.8))\n",
    "model_vggnet19.add(Dense(5, activation = 'softmax'))"
   ]
  },
  {
   "cell_type": "code",
   "execution_count": 28,
   "id": "0ArO4fbFUfTS",
   "metadata": {
    "executionInfo": {
     "elapsed": 1607,
     "status": "ok",
     "timestamp": 1646270509664,
     "user": {
      "displayName": "Alex Kim",
      "photoUrl": "https://lh3.googleusercontent.com/a/default-user=s64",
      "userId": "14000404201898213847"
     },
     "user_tz": -540
    },
    "id": "0ArO4fbFUfTS"
   },
   "outputs": [],
   "source": [
    "model_resnet50.add(resnet50)\n",
    "model_resnet50.add(Flatten())\n",
    "model_resnet50.add(Dense(256, activation='relu'))\n",
    "model_resnet50.add(Dropout(0.8))\n",
    "model_resnet50.add(Dense(5, activation = 'softmax'))"
   ]
  },
  {
   "cell_type": "code",
   "execution_count": 29,
   "id": "97f1f61d",
   "metadata": {},
   "outputs": [],
   "source": [
    "model_resnet101.add(resnet101)\n",
    "model_resnet101.add(Flatten())\n",
    "model_resnet101.add(Dense(256, activation='relu'))\n",
    "model_resnet101.add(Dropout(0.8))\n",
    "model_resnet101.add(Dense(5, activation = 'softmax'))"
   ]
  },
  {
   "cell_type": "code",
   "execution_count": 30,
   "id": "c9902776",
   "metadata": {},
   "outputs": [],
   "source": [
    "model_resnet152.add(resnet152)\n",
    "model_resnet152.add(Flatten())\n",
    "model_resnet152.add(Dense(256, activation='relu'))\n",
    "model_resnet152.add(Dropout(0.8))\n",
    "model_resnet152.add(Dense(5, activation = 'softmax'))"
   ]
  },
  {
   "cell_type": "code",
   "execution_count": 31,
   "id": "AASvjThsUxET",
   "metadata": {
    "executionInfo": {
     "elapsed": 6,
     "status": "ok",
     "timestamp": 1646270509665,
     "user": {
      "displayName": "Alex Kim",
      "photoUrl": "https://lh3.googleusercontent.com/a/default-user=s64",
      "userId": "14000404201898213847"
     },
     "user_tz": -540
    },
    "id": "AASvjThsUxET"
   },
   "outputs": [],
   "source": [
    "model_vggnet16.compile(loss = 'categorical_crossentropy', optimizer = Adam(learning_rate = 0.0001), metrics = ['acc'])\n",
    "model_vggnet19.compile(loss = 'categorical_crossentropy', optimizer = Adam(learning_rate = 0.0001), metrics = ['acc'])\n",
    "model_resnet50.compile(loss = 'categorical_crossentropy', optimizer = Adam(learning_rate = 0.0001), metrics = ['acc'])\n",
    "model_resnet101.compile(loss = 'categorical_crossentropy', optimizer = Adam(learning_rate = 0.0001), metrics = ['acc'])\n",
    "model_resnet152.compile(loss = 'categorical_crossentropy', optimizer = Adam(learning_rate = 0.0001), metrics = ['acc'])"
   ]
  },
  {
   "cell_type": "code",
   "execution_count": 32,
   "id": "ac45b7f8",
   "metadata": {},
   "outputs": [],
   "source": [
    "import time\n",
    "\n",
    "def start():\n",
    "    start_time = time.time()\n",
    "    return start_time\n",
    "\n",
    "def end(start_time):\n",
    "    return time.time() - start_time"
   ]
  },
  {
   "cell_type": "code",
   "execution_count": 34,
   "id": "58695f5d",
   "metadata": {},
   "outputs": [],
   "source": [
    "#VGG16"
   ]
  },
  {
   "cell_type": "code",
   "execution_count": 33,
   "id": "794af2ae",
   "metadata": {},
   "outputs": [
    {
     "name": "stderr",
     "output_type": "stream",
     "text": [
      "C:\\Users\\workspace\\anaconda3\\envs\\workspace1\\lib\\site-packages\\imgaug\\augmenters\\segmentation.py:271: FutureWarning: skimage.measure.label's indexing starts from 0. In future version it will start from 1. To disable this warning, explicitely set the `start_label` parameter to 1.\n",
      "  segments = skimage.segmentation.slic(\n"
     ]
    },
    {
     "name": "stdout",
     "output_type": "stream",
     "text": [
      "Epoch 1/10\n",
      "149/149 [==============================] - 206s 1s/step - loss: 1.3744 - acc: 0.4441 - val_loss: 0.4010 - val_acc: 0.9769\n",
      "Epoch 2/10\n",
      "149/149 [==============================] - 204s 1s/step - loss: 1.1034 - acc: 0.5953 - val_loss: 0.1977 - val_acc: 0.9924\n",
      "Epoch 3/10\n",
      "149/149 [==============================] - 205s 1s/step - loss: 1.0502 - acc: 0.6265 - val_loss: 0.1291 - val_acc: 0.9941\n",
      "Epoch 4/10\n",
      "149/149 [==============================] - 205s 1s/step - loss: 0.9787 - acc: 0.6655 - val_loss: 0.0973 - val_acc: 0.9958\n",
      "Epoch 5/10\n",
      "149/149 [==============================] - 207s 1s/step - loss: 0.9670 - acc: 0.6777 - val_loss: 0.0767 - val_acc: 0.9958\n",
      "Epoch 6/10\n",
      "149/149 [==============================] - 206s 1s/step - loss: 0.9356 - acc: 0.6922 - val_loss: 0.0525 - val_acc: 0.9975\n",
      "Epoch 7/10\n",
      "149/149 [==============================] - 202s 1s/step - loss: 0.9184 - acc: 0.6933 - val_loss: 0.0443 - val_acc: 0.9962\n",
      "Epoch 8/10\n",
      "149/149 [==============================] - 202s 1s/step - loss: 0.9111 - acc: 0.7031 - val_loss: 0.0479 - val_acc: 0.9954\n",
      "Epoch 9/10\n",
      "149/149 [==============================] - 199s 1s/step - loss: 0.9015 - acc: 0.7064 - val_loss: 0.0367 - val_acc: 0.9962\n",
      "Epoch 10/10\n",
      "149/149 [==============================] - 198s 1s/step - loss: 0.8832 - acc: 0.7169 - val_loss: 0.0295 - val_acc: 0.9966\n"
     ]
    }
   ],
   "source": [
    "start_time = start()\n",
    "# 이미지 학습\n",
    "V16 = model_vggnet16.fit(\n",
    "\t#train_sequence가 리턴하는 증강된 이미지를 학습  \n",
    "\ttrain_sequence,validation_data = (X_val/255, y_val),\n",
    "    # 5번 반복해서 전체 이미지 학습 \n",
    "\tepochs = 10)\n",
    "end1 = end(start_time)"
   ]
  },
  {
   "cell_type": "code",
   "execution_count": 35,
   "id": "9d18d85e",
   "metadata": {},
   "outputs": [
    {
     "name": "stdout",
     "output_type": "stream",
     "text": [
      "CNN Model time of :  2034.5136291980743\n"
     ]
    }
   ],
   "source": [
    "print('CNN Model time of : ', end1)"
   ]
  },
  {
   "cell_type": "code",
   "execution_count": 36,
   "id": "6ec690aa",
   "metadata": {},
   "outputs": [
    {
     "data": {
      "image/png": "[encoded data removed]",
      "text/plain": [
       "<Figure size 432x288 with 1 Axes>"
      ]
     },
     "metadata": {
      "needs_background": "light"
     },
     "output_type": "display_data"
    }
   ],
   "source": [
    "acc = V16.history['acc']\n",
    "loss = V16.history['loss']\n",
    " \n",
    "epochs = range(len(acc))\n",
    " \n",
    "plt.plot(epochs, acc, 'b', label='accuracy')\n",
    "plt.plot(epochs, loss, 'r', label='loss')\n",
    "plt.title('accuracy and loss')\n",
    "plt.legend()\n",
    "  \n",
    "plt.show()"
   ]
  },
  {
   "cell_type": "code",
   "execution_count": 37,
   "id": "4da6ccc2",
   "metadata": {},
   "outputs": [
    {
     "data": {
      "image/png": "[encoded data removed]",
      "text/plain": [
       "<Figure size 432x288 with 1 Axes>"
      ]
     },
     "metadata": {
      "needs_background": "light"
     },
     "output_type": "display_data"
    }
   ],
   "source": [
    "acc = V16.history['val_acc']\n",
    "loss = V16.history['val_loss']\n",
    " \n",
    "epochs = range(len(acc))\n",
    " \n",
    "plt.plot(epochs, acc, 'b', label='val_accuracy')\n",
    "plt.plot(epochs, loss, 'r', label='val_loss')\n",
    "plt.title('val_accuracy and val_loss')\n",
    "plt.legend()\n",
    "  \n",
    "plt.show()"
   ]
  },
  {
   "cell_type": "code",
   "execution_count": 38,
   "id": "e7481e3e",
   "metadata": {},
   "outputs": [],
   "source": [
    "model_vggnet16.save(\"./workspace1/models/vggnet16_5class.h5\")"
   ]
  },
  {
   "cell_type": "code",
   "execution_count": 39,
   "id": "4d700e62",
   "metadata": {},
   "outputs": [],
   "source": [
    "#VGG19"
   ]
  },
  {
   "cell_type": "code",
   "execution_count": 40,
   "id": "d17fff0e",
   "metadata": {},
   "outputs": [
    {
     "name": "stdout",
     "output_type": "stream",
     "text": [
      "Epoch 1/10\n",
      "149/149 [==============================] - 210s 1s/step - loss: 1.4443 - acc: 0.4078 - val_loss: 0.5175 - val_acc: 0.9646\n",
      "Epoch 2/10\n",
      "149/149 [==============================] - 204s 1s/step - loss: 1.1783 - acc: 0.5521 - val_loss: 0.3023 - val_acc: 0.9899\n",
      "Epoch 3/10\n",
      "149/149 [==============================] - 201s 1s/step - loss: 1.1122 - acc: 0.5887 - val_loss: 0.2356 - val_acc: 0.9916\n",
      "Epoch 4/10\n",
      "149/149 [==============================] - 204s 1s/step - loss: 1.0699 - acc: 0.6135 - val_loss: 0.1564 - val_acc: 0.9916\n",
      "Epoch 5/10\n",
      "149/149 [==============================] - 206s 1s/step - loss: 1.0423 - acc: 0.6310 - val_loss: 0.1092 - val_acc: 0.9945\n",
      "Epoch 6/10\n",
      "149/149 [==============================] - 201s 1s/step - loss: 1.0195 - acc: 0.6461 - val_loss: 0.0913 - val_acc: 0.9945\n",
      "Epoch 7/10\n",
      "149/149 [==============================] - 202s 1s/step - loss: 1.0083 - acc: 0.6453 - val_loss: 0.0895 - val_acc: 0.9933\n",
      "Epoch 8/10\n",
      "149/149 [==============================] - 202s 1s/step - loss: 0.9919 - acc: 0.6609 - val_loss: 0.0767 - val_acc: 0.9937\n",
      "Epoch 9/10\n",
      "149/149 [==============================] - 200s 1s/step - loss: 0.9802 - acc: 0.6625 - val_loss: 0.0711 - val_acc: 0.9954\n",
      "Epoch 10/10\n",
      "149/149 [==============================] - 196s 1s/step - loss: 0.9718 - acc: 0.6633 - val_loss: 0.0615 - val_acc: 0.9954\n"
     ]
    }
   ],
   "source": [
    "start_time = start()\n",
    "# 이미지 학습\n",
    "V19 = model_vggnet19.fit(\n",
    "\t#train_sequence가 리턴하는 증강된 이미지를 학습  \n",
    "\ttrain_sequence,validation_data = (X_val/255, y_val),\n",
    "    # 5번 반복해서 전체 이미지 학습 \n",
    "\tepochs = 10)\n",
    "end1 = end(start_time)"
   ]
  },
  {
   "cell_type": "code",
   "execution_count": 41,
   "id": "3c9329dd",
   "metadata": {},
   "outputs": [
    {
     "name": "stdout",
     "output_type": "stream",
     "text": [
      "CNN Model time of :  2029.8114361763\n"
     ]
    }
   ],
   "source": [
    "print('CNN Model time of : ', end1)"
   ]
  },
  {
   "cell_type": "code",
   "execution_count": 42,
   "id": "294faf94",
   "metadata": {},
   "outputs": [
    {
     "data": {
      "image/png": "[encoded data removed]",
      "text/plain": [
       "<Figure size 432x288 with 1 Axes>"
      ]
     },
     "metadata": {
      "needs_background": "light"
     },
     "output_type": "display_data"
    }
   ],
   "source": [
    "acc = V19.history['acc']\n",
    "loss = V19.history['loss']\n",
    " \n",
    "epochs = range(len(acc))\n",
    " \n",
    "plt.plot(epochs, acc, 'b', label='accuracy')\n",
    "plt.plot(epochs, loss, 'r', label='loss')\n",
    "plt.title('accuracy and loss')\n",
    "plt.legend()\n",
    "  \n",
    "plt.show()"
   ]
  },
  {
   "cell_type": "code",
   "execution_count": 43,
   "id": "4633d1d6",
   "metadata": {},
   "outputs": [
    {
     "data": {
      "image/png": "[encoded data removed]",
      "text/plain": [
       "<Figure size 432x288 with 1 Axes>"
      ]
     },
     "metadata": {
      "needs_background": "light"
     },
     "output_type": "display_data"
    }
   ],
   "source": [
    "acc = V19.history['val_acc']\n",
    "loss = V19.history['val_loss']\n",
    " \n",
    "epochs = range(len(acc))\n",
    " \n",
    "plt.plot(epochs, acc, 'b', label='val_accuracy')\n",
    "plt.plot(epochs, loss, 'r', label='val_loss')\n",
    "plt.title('val_accuracy and val_loss')\n",
    "plt.legend()\n",
    "  \n",
    "plt.show()"
   ]
  },
  {
   "cell_type": "code",
   "execution_count": 44,
   "id": "6b6a6efe",
   "metadata": {},
   "outputs": [],
   "source": [
    "model_vggnet19.save(\"./workspace1/models/vggnet19_5class.h5\")"
   ]
  },
  {
   "cell_type": "code",
   "execution_count": 45,
   "id": "c755fec4",
   "metadata": {},
   "outputs": [],
   "source": [
    "#resnet50"
   ]
  },
  {
   "cell_type": "code",
   "execution_count": 46,
   "id": "ed9e369b",
   "metadata": {},
   "outputs": [
    {
     "name": "stdout",
     "output_type": "stream",
     "text": [
      "Epoch 1/10\n",
      "149/149 [==============================] - 197s 1s/step - loss: 1.4195 - acc: 0.5358 - val_loss: 0.0390 - val_acc: 0.9954\n",
      "Epoch 2/10\n",
      "149/149 [==============================] - 190s 1s/step - loss: 1.0750 - acc: 0.6336 - val_loss: 0.0236 - val_acc: 0.9983\n",
      "Epoch 3/10\n",
      "149/149 [==============================] - 194s 1s/step - loss: 1.0302 - acc: 0.6464 - val_loss: 0.0116 - val_acc: 0.9992\n",
      "Epoch 4/10\n",
      "149/149 [==============================] - 194s 1s/step - loss: 0.9954 - acc: 0.6600 - val_loss: 0.0076 - val_acc: 1.0000\n",
      "Epoch 5/10\n",
      "149/149 [==============================] - 191s 1s/step - loss: 0.9712 - acc: 0.6778 - val_loss: 0.0072 - val_acc: 1.0000\n",
      "Epoch 6/10\n",
      "149/149 [==============================] - 193s 1s/step - loss: 0.9532 - acc: 0.6801 - val_loss: 0.0049 - val_acc: 0.9987\n",
      "Epoch 7/10\n",
      "149/149 [==============================] - 190s 1s/step - loss: 0.9545 - acc: 0.6807 - val_loss: 0.0040 - val_acc: 1.0000\n",
      "Epoch 8/10\n",
      "149/149 [==============================] - 193s 1s/step - loss: 0.9437 - acc: 0.6821 - val_loss: 0.0034 - val_acc: 1.0000\n",
      "Epoch 9/10\n",
      "149/149 [==============================] - 193s 1s/step - loss: 0.9352 - acc: 0.6872 - val_loss: 0.0028 - val_acc: 1.0000\n",
      "Epoch 10/10\n",
      "149/149 [==============================] - 192s 1s/step - loss: 0.9206 - acc: 0.6936 - val_loss: 0.0041 - val_acc: 1.0000\n"
     ]
    }
   ],
   "source": [
    "start_time = start()\n",
    "# 이미지 학습\n",
    "R50 = model_resnet50.fit(\n",
    "\t#train_sequence가 리턴하는 증강된 이미지를 학습  \n",
    "\ttrain_sequence,validation_data = (X_val/255, y_val),\n",
    "    # 5번 반복해서 전체 이미지 학습 \n",
    "\tepochs = 10)\n",
    "end1 = end(start_time)"
   ]
  },
  {
   "cell_type": "code",
   "execution_count": 47,
   "id": "2272717a",
   "metadata": {},
   "outputs": [
    {
     "name": "stdout",
     "output_type": "stream",
     "text": [
      "CNN Model time of :  1929.3638679981232\n"
     ]
    }
   ],
   "source": [
    "print('CNN Model time of : ', end1)"
   ]
  },
  {
   "cell_type": "code",
   "execution_count": 48,
   "id": "6c08c64c",
   "metadata": {},
   "outputs": [
    {
     "data": {
      "image/png": "[encoded data removed]",
      "text/plain": [
       "<Figure size 432x288 with 1 Axes>"
      ]
     },
     "metadata": {
      "needs_background": "light"
     },
     "output_type": "display_data"
    }
   ],
   "source": [
    "acc = R50.history['acc']\n",
    "loss = R50.history['loss']\n",
    " \n",
    "epochs = range(len(acc))\n",
    " \n",
    "plt.plot(epochs, acc, 'b', label='accuracy')\n",
    "plt.plot(epochs, loss, 'r', label='loss')\n",
    "plt.title('accuracy and loss')\n",
    "plt.legend()\n",
    "  \n",
    "plt.show()"
   ]
  },
  {
   "cell_type": "code",
   "execution_count": 49,
   "id": "8f1b3e8f",
   "metadata": {},
   "outputs": [
    {
     "data": {
      "image/png": "[encoded data removed]",
      "text/plain": [
       "<Figure size 432x288 with 1 Axes>"
      ]
     },
     "metadata": {
      "needs_background": "light"
     },
     "output_type": "display_data"
    }
   ],
   "source": [
    "acc = R50.history['val_acc']\n",
    "loss = R50.history['val_loss']\n",
    " \n",
    "epochs = range(len(acc))\n",
    " \n",
    "plt.plot(epochs, acc, 'b', label='val_accuracy')\n",
    "plt.plot(epochs, loss, 'r', label='val_loss')\n",
    "plt.title('val_accuracy and val_loss')\n",
    "plt.legend()\n",
    "  \n",
    "plt.show()"
   ]
  },
  {
   "cell_type": "code",
   "execution_count": 50,
   "id": "722bedac",
   "metadata": {},
   "outputs": [],
   "source": [
    "model_resnet50.save(\"./workspace1/models/resnet50_5class.h5\")"
   ]
  },
  {
   "cell_type": "code",
   "execution_count": 51,
   "id": "f03ae866",
   "metadata": {},
   "outputs": [],
   "source": [
    "#resnet101"
   ]
  },
  {
   "cell_type": "code",
   "execution_count": 52,
   "id": "9f75eb74",
   "metadata": {},
   "outputs": [
    {
     "name": "stdout",
     "output_type": "stream",
     "text": [
      "Epoch 1/10\n",
      "149/149 [==============================] - 209s 1s/step - loss: 1.4758 - acc: 0.5285 - val_loss: 0.0732 - val_acc: 0.9848\n",
      "Epoch 2/10\n",
      "149/149 [==============================] - 196s 1s/step - loss: 1.1051 - acc: 0.6039 - val_loss: 0.0207 - val_acc: 0.9983\n",
      "Epoch 3/10\n",
      "149/149 [==============================] - 203s 1s/step - loss: 1.0668 - acc: 0.6249 - val_loss: 0.0280 - val_acc: 1.0000\n",
      "Epoch 4/10\n",
      "149/149 [==============================] - 198s 1s/step - loss: 1.0389 - acc: 0.6389 - val_loss: 0.0128 - val_acc: 1.0000\n",
      "Epoch 5/10\n",
      "149/149 [==============================] - 198s 1s/step - loss: 1.0001 - acc: 0.6477 - val_loss: 0.0068 - val_acc: 1.0000\n",
      "Epoch 6/10\n",
      "149/149 [==============================] - 202s 1s/step - loss: 0.9756 - acc: 0.6651 - val_loss: 0.0058 - val_acc: 1.0000\n",
      "Epoch 7/10\n",
      "149/149 [==============================] - 199s 1s/step - loss: 0.9672 - acc: 0.6681 - val_loss: 0.0052 - val_acc: 0.9996\n",
      "Epoch 8/10\n",
      "149/149 [==============================] - 198s 1s/step - loss: 0.9684 - acc: 0.6700 - val_loss: 0.0050 - val_acc: 1.0000\n",
      "Epoch 9/10\n",
      "149/149 [==============================] - 198s 1s/step - loss: 0.9703 - acc: 0.6584 - val_loss: 0.0029 - val_acc: 1.0000\n",
      "Epoch 10/10\n",
      "149/149 [==============================] - 200s 1s/step - loss: 0.9495 - acc: 0.6840 - val_loss: 0.0037 - val_acc: 1.0000\n"
     ]
    }
   ],
   "source": [
    "start_time = start()\n",
    "# 이미지 학습\n",
    "R101 = model_resnet101.fit(\n",
    "\t#train_sequence가 리턴하는 증강된 이미지를 학습  \n",
    "\ttrain_sequence,validation_data = (X_val/255, y_val),\n",
    "    # 5번 반복해서 전체 이미지 학습 \n",
    "\tepochs = 10)\n",
    "end1 = end(start_time)"
   ]
  },
  {
   "cell_type": "code",
   "execution_count": 53,
   "id": "223a381d",
   "metadata": {},
   "outputs": [
    {
     "name": "stdout",
     "output_type": "stream",
     "text": [
      "CNN Model time of :  2002.7147495746613\n"
     ]
    }
   ],
   "source": [
    "print('CNN Model time of : ', end1)"
   ]
  },
  {
   "cell_type": "code",
   "execution_count": 54,
   "id": "4e5e69ef",
   "metadata": {},
   "outputs": [
    {
     "data": {
      "image/png": "[encoded data removed]",
      "text/plain": [
       "<Figure size 432x288 with 1 Axes>"
      ]
     },
     "metadata": {
      "needs_background": "light"
     },
     "output_type": "display_data"
    }
   ],
   "source": [
    "acc = R101.history['acc']\n",
    "loss = R101.history['loss']\n",
    " \n",
    "epochs = range(len(acc))\n",
    " \n",
    "plt.plot(epochs, acc, 'b', label='accuracy')\n",
    "plt.plot(epochs, loss, 'r', label='loss')\n",
    "plt.title('accuracy and loss')\n",
    "plt.legend()\n",
    "  \n",
    "plt.show()"
   ]
  },
  {
   "cell_type": "code",
   "execution_count": 55,
   "id": "72699c93",
   "metadata": {},
   "outputs": [
    {
     "data": {
      "image/png": "[encoded data removed]",
      "text/plain": [
       "<Figure size 432x288 with 1 Axes>"
      ]
     },
     "metadata": {
      "needs_background": "light"
     },
     "output_type": "display_data"
    }
   ],
   "source": [
    "acc = R101.history['val_acc']\n",
    "loss = R101.history['val_loss']\n",
    " \n",
    "epochs = range(len(acc))\n",
    " \n",
    "plt.plot(epochs, acc, 'b', label='val_accuracy')\n",
    "plt.plot(epochs, loss, 'r', label='val_loss')\n",
    "plt.title('val_accuracy and val_loss')\n",
    "plt.legend()\n",
    "  \n",
    "plt.show()"
   ]
  },
  {
   "cell_type": "code",
   "execution_count": 56,
   "id": "d6927f6e",
   "metadata": {},
   "outputs": [],
   "source": [
    "model_resnet101.save(\"./workspace1/models/resnet101_5class.h5\")"
   ]
  },
  {
   "cell_type": "code",
   "execution_count": 57,
   "id": "d63aa4aa",
   "metadata": {},
   "outputs": [],
   "source": [
    "#resnet152"
   ]
  },
  {
   "cell_type": "code",
   "execution_count": 58,
   "id": "3eac323b",
   "metadata": {},
   "outputs": [
    {
     "name": "stdout",
     "output_type": "stream",
     "text": [
      "Epoch 1/10\n",
      "149/149 [==============================] - 212s 1s/step - loss: 1.4775 - acc: 0.5419 - val_loss: 0.0278 - val_acc: 0.9975\n",
      "Epoch 2/10\n",
      "149/149 [==============================] - 206s 1s/step - loss: 1.0630 - acc: 0.6303 - val_loss: 0.0196 - val_acc: 0.9975\n",
      "Epoch 3/10\n",
      "149/149 [==============================] - 209s 1s/step - loss: 1.0158 - acc: 0.6585 - val_loss: 0.0080 - val_acc: 1.0000\n",
      "Epoch 4/10\n",
      "149/149 [==============================] - 209s 1s/step - loss: 0.9768 - acc: 0.6799 - val_loss: 0.0061 - val_acc: 1.0000\n",
      "Epoch 5/10\n",
      "149/149 [==============================] - 210s 1s/step - loss: 0.9685 - acc: 0.6822 - val_loss: 0.0041 - val_acc: 1.0000\n",
      "Epoch 6/10\n",
      "149/149 [==============================] - 207s 1s/step - loss: 0.9607 - acc: 0.6824 - val_loss: 0.0043 - val_acc: 1.0000\n",
      "Epoch 7/10\n",
      "149/149 [==============================] - 205s 1s/step - loss: 0.9411 - acc: 0.6943 - val_loss: 0.0029 - val_acc: 1.0000\n",
      "Epoch 8/10\n",
      "149/149 [==============================] - 205s 1s/step - loss: 0.9271 - acc: 0.6975 - val_loss: 0.0021 - val_acc: 1.0000\n",
      "Epoch 9/10\n",
      "149/149 [==============================] - 209s 1s/step - loss: 0.9246 - acc: 0.6994 - val_loss: 0.0038 - val_acc: 1.0000\n",
      "Epoch 10/10\n",
      "149/149 [==============================] - 204s 1s/step - loss: 0.9116 - acc: 0.6976 - val_loss: 0.0029 - val_acc: 1.0000\n"
     ]
    }
   ],
   "source": [
    "start_time = start()\n",
    "# 이미지 학습\n",
    "R152 = model_resnet152.fit(\n",
    "\t#train_sequence가 리턴하는 증강된 이미지를 학습  \n",
    "\ttrain_sequence,validation_data = (X_val/255, y_val),\n",
    "    # 5번 반복해서 전체 이미지 학습 \n",
    "\tepochs = 10)\n",
    "end1 = end(start_time)"
   ]
  },
  {
   "cell_type": "code",
   "execution_count": 59,
   "id": "dc83b042",
   "metadata": {},
   "outputs": [
    {
     "data": {
      "image/png": "[encoded data removed]",
      "text/plain": [
       "<Figure size 432x288 with 1 Axes>"
      ]
     },
     "metadata": {
      "needs_background": "light"
     },
     "output_type": "display_data"
    }
   ],
   "source": [
    "acc = R152.history['acc']\n",
    "loss = R152.history['loss']\n",
    " \n",
    "epochs = range(len(acc))\n",
    " \n",
    "plt.plot(epochs, acc, 'b', label='accuracy')\n",
    "plt.plot(epochs, loss, 'r', label='loss')\n",
    "plt.title('accuracy and loss')\n",
    "plt.legend()\n",
    "  \n",
    "plt.show()"
   ]
  },
  {
   "cell_type": "code",
   "execution_count": 60,
   "id": "576a9034",
   "metadata": {},
   "outputs": [
    {
     "data": {
      "image/png": "[encoded data removed]",
      "text/plain": [
       "<Figure size 432x288 with 1 Axes>"
      ]
     },
     "metadata": {
      "needs_background": "light"
     },
     "output_type": "display_data"
    }
   ],
   "source": [
    "acc = R152.history['val_acc']\n",
    "loss = R152.history['val_loss']\n",
    " \n",
    "epochs = range(len(acc))\n",
    " \n",
    "plt.plot(epochs, acc, 'b', label='val_accuracy')\n",
    "plt.plot(epochs, loss, 'r', label='val_loss')\n",
    "plt.title('val_accuracy and val_loss')\n",
    "plt.legend()\n",
    "  \n",
    "plt.show()"
   ]
  },
  {
   "cell_type": "code",
   "execution_count": 61,
   "id": "1285ece2",
   "metadata": {},
   "outputs": [],
   "source": [
    "model_resnet152.save(\"./workspace1/models/resnet152_5class.h5\")"
   ]
  }
 ],
 "metadata": {
  "accelerator": "GPU",
  "colab": {
   "name": "top3.train.test.ipynb",
   "provenance": []
  },
  "kernelspec": {
   "display_name": "Python 3 (ipykernel)",
   "language": "python",
   "name": "python3"
  },
  "language_info": {
   "codemirror_mode": {
    "name": "ipython",
    "version": 3
   },
   "file_extension": ".py",
   "mimetype": "text/x-python",
   "name": "python",
   "nbconvert_exporter": "python",
   "pygments_lexer": "ipython3",
   "version": "3.9.7"
  }
 },
 "nbformat": 4,
 "nbformat_minor": 5
}
